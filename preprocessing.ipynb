{
 "cells": [
  {
   "cell_type": "code",
   "execution_count": 129,
   "metadata": {},
   "outputs": [],
   "source": [
    "import pandas as pd\n",
    "import numpy as np"
   ]
  },
  {
   "cell_type": "code",
   "execution_count": 130,
   "metadata": {},
   "outputs": [],
   "source": [
    "#read the csv file\n",
    "data = pd.read_csv('Desktop/dataset.csv',dtype={'age':int})\n",
    "\n",
    "\n"
   ]
  },
  {
   "cell_type": "code",
   "execution_count": 131,
   "metadata": {},
   "outputs": [
    {
     "name": "stdout",
     "output_type": "stream",
     "text": [
      "20\n",
      "203\n"
     ]
    }
   ],
   "source": [
    "#check if age is in suitable range and replace with mean\n",
    "mean_age=int(data['age'].mean())\n",
    "\n",
    "idx=0\n",
    "\n",
    "for age in data['age']:\n",
    "      \n",
    "    if age<10 or age>=100 :\n",
    "        print(idx)  \n",
    "        data.loc[idx,'age']=np.nan\n",
    "    \n",
    "    idx=idx+1\n",
    "    \n",
    "#check for missing values in rest BP and max heart rate and replace with mean/median\n",
    "median_BP=int(data['rest_bpress'].median())\n",
    "mean_heart_rate=int(data['max_heart_rate'].mean())\n",
    "data['rest_bpress'].fillna(median_BP,inplace=True)\n",
    "data['max_heart_rate'].fillna(median_BP,inplace=True)\n",
    "#convert final oucome column i.e disease column to boolean values 1:positive, 0:negative\n",
    "data['disease'] = data['disease'].map({'positive': 1, 'negative': 0})\n",
    "\n"
   ]
  },
  {
   "cell_type": "code",
   "execution_count": 132,
   "metadata": {},
   "outputs": [],
   "source": [
    "#check for missing values in  columns and remove the row\n",
    "\n",
    "data.dropna(how='any',inplace=True)\n"
   ]
  },
  {
   "cell_type": "code",
   "execution_count": 133,
   "metadata": {},
   "outputs": [],
   "source": [
    "data.to_csv('preprocessed.csv')"
   ]
  },
  {
   "cell_type": "code",
   "execution_count": null,
   "metadata": {},
   "outputs": [],
   "source": []
  }
 ],
 "metadata": {
  "kernelspec": {
   "display_name": "Python 3",
   "language": "python",
   "name": "python3"
  },
  "language_info": {
   "codemirror_mode": {
    "name": "ipython",
    "version": 3
   },
   "file_extension": ".py",
   "mimetype": "text/x-python",
   "name": "python",
   "nbconvert_exporter": "python",
   "pygments_lexer": "ipython3",
   "version": "3.7.1"
  }
 },
 "nbformat": 4,
 "nbformat_minor": 2
}
