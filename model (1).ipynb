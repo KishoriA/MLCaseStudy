{
 "cells": [
  {
   "cell_type": "code",
   "execution_count": 571,
   "metadata": {},
   "outputs": [],
   "source": [
    "import pandas as pd\n",
    "from sklearn.linear_model import LogisticRegression\n",
    "from sklearn import svm\n",
    "from sklearn.model_selection import train_test_split\n",
    "from sklearn.metrics import f1_score\n",
    "from sklearn.tree import DecisionTreeRegressor\n",
    "import pickle\n",
    "import numpy as np\n"
   ]
  },
  {
   "cell_type": "code",
   "execution_count": 572,
   "metadata": {},
   "outputs": [
    {
     "data": {
      "text/html": [
       "<div>\n",
       "<style scoped>\n",
       "    .dataframe tbody tr th:only-of-type {\n",
       "        vertical-align: middle;\n",
       "    }\n",
       "\n",
       "    .dataframe tbody tr th {\n",
       "        vertical-align: top;\n",
       "    }\n",
       "\n",
       "    .dataframe thead th {\n",
       "        text-align: right;\n",
       "    }\n",
       "</style>\n",
       "<table border=\"1\" class=\"dataframe\">\n",
       "  <thead>\n",
       "    <tr style=\"text-align: right;\">\n",
       "      <th></th>\n",
       "      <th>Unnamed: 0</th>\n",
       "      <th>age</th>\n",
       "      <th>chest_pain</th>\n",
       "      <th>rest_bpress</th>\n",
       "      <th>blood_sugar</th>\n",
       "      <th>rest_electro</th>\n",
       "      <th>max_heart_rate</th>\n",
       "      <th>exercice_angina</th>\n",
       "      <th>disease</th>\n",
       "    </tr>\n",
       "  </thead>\n",
       "  <tbody>\n",
       "    <tr>\n",
       "      <th>0</th>\n",
       "      <td>0</td>\n",
       "      <td>43.0</td>\n",
       "      <td>asympt</td>\n",
       "      <td>140.0</td>\n",
       "      <td>0</td>\n",
       "      <td>normal</td>\n",
       "      <td>135.0</td>\n",
       "      <td>1.0</td>\n",
       "      <td>1.0</td>\n",
       "    </tr>\n",
       "    <tr>\n",
       "      <th>1</th>\n",
       "      <td>1</td>\n",
       "      <td>39.0</td>\n",
       "      <td>atyp_angina</td>\n",
       "      <td>130.0</td>\n",
       "      <td>0</td>\n",
       "      <td>normal</td>\n",
       "      <td>160.0</td>\n",
       "      <td>1.0</td>\n",
       "      <td>0.0</td>\n",
       "    </tr>\n",
       "    <tr>\n",
       "      <th>2</th>\n",
       "      <td>2</td>\n",
       "      <td>39.0</td>\n",
       "      <td>non_anginal</td>\n",
       "      <td>160.0</td>\n",
       "      <td>1</td>\n",
       "      <td>normal</td>\n",
       "      <td>160.0</td>\n",
       "      <td>0.0</td>\n",
       "      <td>0.0</td>\n",
       "    </tr>\n",
       "    <tr>\n",
       "      <th>3</th>\n",
       "      <td>5</td>\n",
       "      <td>50.0</td>\n",
       "      <td>asympt</td>\n",
       "      <td>140.0</td>\n",
       "      <td>0</td>\n",
       "      <td>normal</td>\n",
       "      <td>135.0</td>\n",
       "      <td>0.0</td>\n",
       "      <td>0.0</td>\n",
       "    </tr>\n",
       "    <tr>\n",
       "      <th>4</th>\n",
       "      <td>6</td>\n",
       "      <td>59.0</td>\n",
       "      <td>asympt</td>\n",
       "      <td>140.0</td>\n",
       "      <td>1</td>\n",
       "      <td>left_vent_hyper</td>\n",
       "      <td>119.0</td>\n",
       "      <td>1.0</td>\n",
       "      <td>1.0</td>\n",
       "    </tr>\n",
       "  </tbody>\n",
       "</table>\n",
       "</div>"
      ],
      "text/plain": [
       "   Unnamed: 0   age   chest_pain  rest_bpress  blood_sugar     rest_electro  \\\n",
       "0           0  43.0       asympt        140.0            0           normal   \n",
       "1           1  39.0  atyp_angina        130.0            0           normal   \n",
       "2           2  39.0  non_anginal        160.0            1           normal   \n",
       "3           5  50.0       asympt        140.0            0           normal   \n",
       "4           6  59.0       asympt        140.0            1  left_vent_hyper   \n",
       "\n",
       "   max_heart_rate  exercice_angina  disease  \n",
       "0           135.0              1.0      1.0  \n",
       "1           160.0              1.0      0.0  \n",
       "2           160.0              0.0      0.0  \n",
       "3           135.0              0.0      0.0  \n",
       "4           119.0              1.0      1.0  "
      ]
     },
     "execution_count": 572,
     "metadata": {},
     "output_type": "execute_result"
    }
   ],
   "source": [
    "#load the data file \n",
    "data=pd.read_csv('preprocessed.csv')\n",
    "data.head()"
   ]
  },
  {
   "cell_type": "code",
   "execution_count": 573,
   "metadata": {},
   "outputs": [
    {
     "data": {
      "text/plain": [
       "dtype('int64')"
      ]
     },
     "execution_count": 573,
     "metadata": {},
     "output_type": "execute_result"
    }
   ],
   "source": [
    "#find number of features available and remove one as that is the target feature and one is the unnamed column\n",
    "n_features=data.shape[1]-2\n",
    "\n",
    "#separate the features and the target/outcome\n",
    "x_feats=data.drop(['disease','Unnamed: 0'],1)\n",
    "y_feat=data['disease']\n",
    "y_feat=y_feat.astype('int64')\n",
    "y_feat.dtypes\n",
    "\n"
   ]
  },
  {
   "cell_type": "code",
   "execution_count": 574,
   "metadata": {},
   "outputs": [],
   "source": [
    "#pre process the features\n",
    "#x-dataframe containing the training features\n",
    "def preprocess_features(x):\n",
    "    #new output dataframe\n",
    "    output=pd.DataFrame(index=x.index)\n",
    "    #iterate through each column in features\n",
    "    for col,col_data in x.iteritems():\n",
    "        #convert categorical data to dummy variables/ one hot encoding of the categorical variables\n",
    "        if col_data.dtype==object:\n",
    "            col_data=pd.get_dummies(col_data,prefix=col)\n",
    "        output=output.join(col_data)\n",
    "    return output"
   ]
  },
  {
   "cell_type": "code",
   "execution_count": 575,
   "metadata": {},
   "outputs": [],
   "source": [
    " \n",
    "    \n",
    "#the function makes predictions ans returns the f-score and the accuracy of the model\n",
    "#f score is the weighted average of the precision and the recall. A value closer to 1 will mean better results!\n",
    "\n",
    "def predict_label(classifier,features,outcome):\n",
    "    y_pred=classifier.predict(features)\n",
    "    return f1_score(outcome,y_pred),sum(outcome==y_pred)/float(len(y_pred))\n",
    "'''\n",
    "def save_model(classifier):\n",
    "    filename = 'model.pkl'\n",
    "    pickle.dump(model, open(filename, 'wb'))\n",
    "'''    \n",
    "    \n",
    "#the function calls the train method to train the model and predict\n",
    "def model(classifier,x_train,y_train,x_test,y_test): \n",
    "   \n",
    "    print(\"training dataset size\",len(x_train))\n",
    "    classifier.fit(x_train,y_train)\n",
    "    save_model(classifier)\n",
    "    f1,accuracy=predict_label(classifier,x_train,y_train)\n",
    "    print (\"f1 score and accuracy of training dataset\")\n",
    "    print(f1,accuracy*100)\n",
    "    f1,accuracy=predict_label(classifier,x_test,y_test)\n",
    "    print (\"f1 score and accuracy of testing dataset\")\n",
    "    print(f1,accuracy*100)\n",
    "    save_model(classifier)\n",
    "    \n",
    "    \n",
    "    \n",
    "    \n",
    "    \n",
    "    \n",
    "    \n",
    "    \n",
    "    "
   ]
  },
  {
   "cell_type": "code",
   "execution_count": 576,
   "metadata": {},
   "outputs": [
    {
     "data": {
      "text/plain": [
       "age                                   int64\n",
       "chest_pain_asympt                     int64\n",
       "chest_pain_atyp_angina                int64\n",
       "chest_pain_non_anginal                int64\n",
       "chest_pain_typ_angina                 int64\n",
       "rest_bpress                           int64\n",
       "blood_sugar                           int64\n",
       "rest_electro_left_vent_hyper          int64\n",
       "rest_electro_normal                   int64\n",
       "rest_electro_st_t_wave_abnormality    int64\n",
       "max_heart_rate                        int64\n",
       "exercice_angina                       int64\n",
       "dtype: object"
      ]
     },
     "execution_count": 576,
     "metadata": {},
     "output_type": "execute_result"
    }
   ],
   "source": [
    "#converted to one hot encodings for categorical variable\n",
    "x_feats=preprocess_features(x_feats)\n",
    "x_feats=x_feats.astype('int64')\n",
    "x_feats.dtypes"
   ]
  },
  {
   "cell_type": "code",
   "execution_count": 577,
   "metadata": {},
   "outputs": [
    {
     "name": "stdout",
     "output_type": "stream",
     "text": [
      "training dataset size 161\n",
      "f1 score and accuracy of training dataset\n",
      "0.7770700636942676 78.26086956521739\n",
      "f1 score and accuracy of testing dataset\n",
      "0.7999999999999999 75.60975609756098\n"
     ]
    },
    {
     "name": "stderr",
     "output_type": "stream",
     "text": [
      "c:\\users\\vepatil\\appdata\\local\\programs\\python\\python37\\lib\\site-packages\\sklearn\\svm\\base.py:922: ConvergenceWarning: Liblinear failed to converge, increase the number of iterations.\n",
      "  \"the number of iterations.\", ConvergenceWarning)\n"
     ]
    }
   ],
   "source": [
    "#split data into training and testing datasets\n",
    "x_train,x_test,y_train,y_test=train_test_split(x_feats,y_feat,test_size=0.2, random_state=0)\n",
    "classifier=svm.LinearSVC()\n",
    "model(classifier,x_train,y_train,x_test,y_test)"
   ]
  },
  {
   "cell_type": "code",
   "execution_count": 578,
   "metadata": {},
   "outputs": [],
   "source": [
    "import coremltools\n",
    "coreml_model = coremltools.converters.sklearn.convert(classifier,input_features=[\"age\",\"chest_pain_asympt\",\"chest_pain_atyp_angina\",\"chest_pain_non_anginal\",\"chest_pain_typ_angina\",\"rest_bpress\",\"blood_sugar\",\"rest_electro_left_vent_hyper\", \"rest_electro_normal\",\"rest_electro_st_t_wave_abnormality\", \"max_heart_rate\",\"exercice_angina\"],output_feature_names='disease')\n",
    "coreml_model.save('model_svc.mlmodel')\n"
   ]
  },
  {
   "cell_type": "code",
   "execution_count": 579,
   "metadata": {},
   "outputs": [],
   "source": [
    "#predict for a new record coming in\n",
    "def predict_new_record(d,classifier):\n",
    "    if d['blood_sugar']=='t':\n",
    "        d['blood_sugar']=1\n",
    "    else:\n",
    "        d['blood_sugar']=0\n",
    "\n",
    "    if d['exercice_angina']=='yes':\n",
    "        d['exercice_angina']=1\n",
    "    else:\n",
    "        d['exercice_angina']=0\n",
    "\n",
    "\n",
    "\n",
    "    temp=pd.DataFrame(columns=x_feats.columns)\n",
    "    \n",
    "\n",
    "    for key,value in d.items():\n",
    "        if(type(value)==str):\n",
    "            col_name=str(key)+'_'+str(value)\n",
    "            \n",
    "            temp.loc[0,col_name]=1\n",
    "        else:\n",
    "            temp.loc[0,key]=value\n",
    "    temp.fillna(0,inplace=True)\n",
    "    temp=temp.astype('int64')\n",
    "    #print(temp.dtypes)\n",
    "    #classifier = pickle.load(open('model.sav', 'rb'))\n",
    "    result=classifier.predict(temp)\n",
    "    print(result)\n",
    "    if result>0.5:\n",
    "        return 'Positive'\n",
    "    else:\n",
    "        return 'Negative'\n",
    "    "
   ]
  },
  {
   "cell_type": "code",
   "execution_count": 580,
   "metadata": {},
   "outputs": [
    {
     "name": "stdout",
     "output_type": "stream",
     "text": [
      "[1]\n",
      "Positive\n"
     ]
    }
   ],
   "source": [
    "#accept new record and predict \n",
    "d={'age':29,'chest_pain':'asympt','rest_bpress':120,'blood_sugar':'t','rest_electro':'normal','max_heart_rate':180,'exercice_angina':'yes'}   \n",
    "\n",
    "print(predict_new_record(d,classifier))\n",
    "\n",
    "    \n",
    "    \n",
    "    \n",
    "        "
   ]
  },
  {
   "cell_type": "code",
   "execution_count": null,
   "metadata": {},
   "outputs": [],
   "source": []
  },
  {
   "cell_type": "code",
   "execution_count": null,
   "metadata": {},
   "outputs": [],
   "source": []
  }
 ],
 "metadata": {
  "kernelspec": {
   "display_name": "Python 3",
   "language": "python",
   "name": "python3"
  },
  "language_info": {
   "codemirror_mode": {
    "name": "ipython",
    "version": 3
   },
   "file_extension": ".py",
   "mimetype": "text/x-python",
   "name": "python",
   "nbconvert_exporter": "python",
   "pygments_lexer": "ipython3",
   "version": "3.7.1"
  }
 },
 "nbformat": 4,
 "nbformat_minor": 2
}
