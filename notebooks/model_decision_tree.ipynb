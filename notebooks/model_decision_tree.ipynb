{
 "cells": [
  {
   "cell_type": "code",
   "execution_count": 67,
   "metadata": {
    "scrolled": true
   },
   "outputs": [],
   "source": [
    "import pandas as pd\n",
    "from sklearn.linear_model import LogisticRegression,LinearRegression\n",
    "from sklearn.svm import LinearSVC,LinearSVR\n",
    "from sklearn import tree\n",
    "from sklearn.model_selection import train_test_split\n",
    "from sklearn.metrics import f1_score,confusion_matrix,classification_report\n",
    "import numpy as np\n",
    "import xgboost as xgb\n",
    "from imblearn.over_sampling import SMOTE\n",
    "import time\n",
    "import coremltools\n",
    "import matplotlib.pyplot as plt"
   ]
  },
  {
   "cell_type": "code",
   "execution_count": 68,
   "metadata": {},
   "outputs": [],
   "source": [
    "#load the data file \n",
    "data=pd.read_csv('preprocessed.csv')\n",
    "data.head()\n",
    "#separate into features and target variable\n",
    "features=data.drop(['disease','Unnamed: 0'],1)\n",
    "target=data['disease']\n",
    "target=target.astype('int64')"
   ]
  },
  {
   "cell_type": "code",
   "execution_count": 70,
   "metadata": {},
   "outputs": [],
   "source": [
    "#prepprocess the features\n",
    "#convert the categorical variables to dummy variables by encoding each category with a unique number\n",
    "#here the chest pain feature has 4 categories which are assigned a number from 0 to 3\n",
    "\n",
    "def preprocess_features_xgb(features,unique_cp,unique_re):\n",
    "    for v in unique_cp:\n",
    "        features.replace(v,unique_cp.index(v),inplace=True)\n",
    "\n",
    "    for v in unique_re:\n",
    "        features.replace(v,unique_re.index(v),inplace=True)\n",
    "\n",
    "    features=features.astype('int64')\n",
    "    return features\n",
    "\n",
    "unique_cp=list(features['chest_pain'].unique())\n",
    "unique_re=list(features['rest_electro'].unique())\n",
    "features=preprocess_features_xgb(features,unique_cp,unique_re)\n"
   ]
  },
  {
   "cell_type": "code",
   "execution_count": 71,
   "metadata": {},
   "outputs": [
    {
     "name": "stdout",
     "output_type": "stream",
     "text": [
      "length of oversampled data is  188\n",
      "no of positives in over sampled data: 94\n",
      "no of positives in over sampled data: 94\n"
     ]
    }
   ],
   "source": [
    "#SMOTE an algorith used for oversampling. It generates a dataset that has equal proportions of data samples for positive and negative classes\n",
    "#create new random samples from the minor class for equal distribution\n",
    "from imblearn.over_sampling import SMOTE\n",
    "os = SMOTE(random_state=0)\n",
    "x_train,x_test,y_train,y_test=train_test_split(features,target,test_size=0.2, random_state=0)\n",
    "\n",
    "columns = x_train.columns\n",
    "os_data_x , os_data_y=os.fit_sample(x_train, y_train)\n",
    "os_data_x = pd.DataFrame(data=os_data_x , columns=columns )\n",
    "os_data_y= pd.DataFrame(data=os_data_y,columns=['disease'])\n",
    "os_data_x=os_data_x.astype('int64')\n",
    "os_data_y=os_data_y.astype('int64')\n",
    "# we can Check the numbers of our data\n",
    "print(\"length of oversampled data is \",len(os_data_x))\n",
    "\n",
    "print('no of positives in over sampled data:', len(os_data_y[os_data_y['disease']==1]))\n",
    "print('no of positives in over sampled data:', len(os_data_y[os_data_y['disease']==0]))"
   ]
  },
  {
   "cell_type": "code",
   "execution_count": 72,
   "metadata": {},
   "outputs": [],
   "source": [
    "#trains the model and generats a report for the performance metrics \n",
    "def train(model,model_name,x_train,y_train,x_test,y_test):    \n",
    "    print(model_name)\n",
    "    print(' ')\n",
    "    print(\"training dataset size\",len(x_train))\n",
    "    start=time.time()\n",
    "    model.fit(x_train,y_train)\n",
    "    end=time.time()\n",
    "    y_pred=model.predict(x_train)\n",
    "    acc_train=model.score(x_train,y_train)\n",
    "    y_pred=model.predict(x_test)\n",
    "    acc_test=model.score(x_test,y_test)\n",
    "\n",
    "    \n",
    "    print('time for training: ',end-start)\n",
    "    print('Accuracy of model on train dataset:  {:.2f} %'.format(acc_train*100))\n",
    "    print('Accuracy of model on test dataset:  {:.2f} %'.format(acc_test*100))\n",
    "    \n",
    "    print('CONFUSION MATRIX:')\n",
    "    print(confusion_matrix(y_test,y_pred))\n",
    "    print('RESULTS')\n",
    "    report=classification_report(y_pred,y_test)\n",
    "    print(report)\n",
    "    "
   ]
  },
  {
   "cell_type": "code",
   "execution_count": 73,
   "metadata": {},
   "outputs": [
    {
     "name": "stdout",
     "output_type": "stream",
     "text": [
      "XGB\n",
      " \n",
      "training dataset size 161\n",
      "time for training:  0.063507080078125\n",
      "Accuracy of model on train dataset:  96.89 %\n",
      "Accuracy of model on test dataset:  75.61 %\n",
      "CONFUSION MATRIX:\n",
      "[[14  4]\n",
      " [ 6 17]]\n",
      "RESULTS\n",
      "              precision    recall  f1-score   support\n",
      "\n",
      "           0       0.78      0.70      0.74        20\n",
      "           1       0.74      0.81      0.77        21\n",
      "\n",
      "   micro avg       0.76      0.76      0.76        41\n",
      "   macro avg       0.76      0.75      0.75        41\n",
      "weighted avg       0.76      0.76      0.76        41\n",
      "\n"
     ]
    }
   ],
   "source": [
    "\n",
    "model=xgb.XGBClassifier()\n",
    "train(model,'XGB',x_train,y_train,x_test,y_test)\n",
    "#save coreml model\n",
    "coreml_model = coremltools.converters.xgboost.convert(model._Booster)\n",
    "coreml_model.save('xgb.mlmodel')\n"
   ]
  },
  {
   "cell_type": "code",
   "execution_count": 74,
   "metadata": {},
   "outputs": [
    {
     "data": {
      "image/png": "[encoded data removed]",
      "text/plain": [
       "<Figure size 720x720 with 1 Axes>"
      ]
     },
     "metadata": {
      "needs_background": "light"
     },
     "output_type": "display_data"
    },
    {
     "data": {
      "text/plain": [
       "<Figure size 720x720 with 0 Axes>"
      ]
     },
     "metadata": {},
     "output_type": "display_data"
    }
   ],
   "source": [
    "#plot the importance of each feature in tree generation\n",
    "xgb.plot_importance(model)\n",
    "plt.rcParams['figure.figsize'] = [10, 10]\n",
    "plt.show()\n",
    "plt.savefig('feature_importance.png')"
   ]
  },
  {
   "cell_type": "code",
   "execution_count": 75,
   "metadata": {},
   "outputs": [],
   "source": [
    "#geneate predictions for a new record given as input\n",
    "def predict_label_xgb(model,d):\n",
    "    if d['blood_sugar']=='t':\n",
    "        d['blood_sugar']=1\n",
    "    else:\n",
    "        d['blood_sugar']=0\n",
    "\n",
    "    if d['exercice_angina']=='yes':\n",
    "        d['exercice_angina']=1\n",
    "    else:\n",
    "        d['exercice_angina']=0\n",
    "    d['chest_pain']=unique_cp.index(d['chest_pain'])\n",
    "    d['rest_electro']=unique_re.index(d['rest_electro'])\n",
    "    temp=pd.DataFrame(columns=d.keys())\n",
    "    for key,value in d.items():\n",
    "        temp.loc[0,key]=value\n",
    "    #print (temp)\n",
    "    result=model.predict(temp)\n",
    "    prob=model.predict_proba(temp)\n",
    "    if result==0:\n",
    "        print ('Negative with probability',prob[0][0])\n",
    "    else:\n",
    "        print('Positive with probability',prob[0][1])\n",
    "    "
   ]
  },
  {
   "cell_type": "code",
   "execution_count": 76,
   "metadata": {},
   "outputs": [
    {
     "name": "stdout",
     "output_type": "stream",
     "text": [
      "Negative with probability 0.612113\n"
     ]
    }
   ],
   "source": [
    "    \n",
    "sample=d={'age':29,'chest_pain':'non_anginal','rest_bpress':120,'blood_sugar':'t','rest_electro':'normal','max_heart_rate':120,'exercice_angina':'yes'}\n",
    "predict_label(model,sample)"
   ]
  },
  {
   "cell_type": "code",
   "execution_count": null,
   "metadata": {},
   "outputs": [],
   "source": []
  }
 ],
 "metadata": {
  "kernelspec": {
   "display_name": "Python 3",
   "language": "python",
   "name": "python3"
  },
  "language_info": {
   "codemirror_mode": {
    "name": "ipython",
    "version": 3
   },
   "file_extension": ".py",
   "mimetype": "text/x-python",
   "name": "python",
   "nbconvert_exporter": "python",
   "pygments_lexer": "ipython3",
   "version": "3.6.5"
  }
 },
 "nbformat": 4,
 "nbformat_minor": 2
}
